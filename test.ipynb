{
 "cells": [
  {
   "cell_type": "code",
   "execution_count": 1,
   "id": "f73f88c9",
   "metadata": {},
   "outputs": [
    {
     "name": "stderr",
     "output_type": "stream",
     "text": [
      "/home/mohan/anaconda3/envs/unity/lib/python3.9/site-packages/ale_py/roms/__init__.py:89: DeprecationWarning: Automatic importing of atari-py roms won't be supported in future releases of ale-py. Please migrate over to using `ale-import-roms` OR an ALE-supported ROM package. To make this warning disappear you can run `ale-import-roms --import-from-pkg atari_py.atari_roms`.For more information see: https://github.com/mgbellemare/Arcade-Learning-Environment#rom-management\n",
      "  ROMS = resolve_roms()\n"
     ]
    },
    {
     "name": "stdout",
     "output_type": "stream",
     "text": [
      "[['W' 'O' 'O' 'O' 'W']\n",
      " ['W' 'O' 'O' 'O' 'W']\n",
      " ['W' 'O' 'A' 'O' 'W']\n",
      " ['W' 'O' 'O' 'T' 'W']\n",
      " ['W' 'W' 'W' 'W' 'W']]\n"
     ]
    },
    {
     "name": "stderr",
     "output_type": "stream",
     "text": [
      "/home/mohan/anaconda3/envs/unity/lib/python3.9/site-packages/gym/spaces/box.py:128: UserWarning: \u001b[33mWARN: Box bound precision lowered by casting to float32\u001b[0m\n",
      "  logger.warn(f\"Box bound precision lowered by casting to {self.dtype}\")\n"
     ]
    }
   ],
   "source": [
    "from rlgridworld.gridenv import GridEnv\n",
    "import numpy as np\n",
    "\n",
    "\n",
    "env = GridEnv(load_chars_rep_fromd_dir = 'EnvSettings/SimpleTarget.txt')\n",
    "env.reset()\n",
    "print(env.chars_world)"
   ]
  },
  {
   "cell_type": "code",
   "execution_count": 16,
   "id": "a0ca3071",
   "metadata": {},
   "outputs": [
    {
     "name": "stdout",
     "output_type": "stream",
     "text": [
      "0 {'chars_world': array([['W', 'O', 'O', 'O', 'W'],\n",
      "       ['W', 'O', 'O', 'O', 'W'],\n",
      "       ['W', 'O', 'O', 'O', 'W'],\n",
      "       ['W', 'O', 'A', 'T', 'W'],\n",
      "       ['W', 'W', 'W', 'W', 'W']], dtype='<U1'), 'terminated': False, 'truncated': False, 'done': False, 'move_result': [0, 0, 1, 0]}\n"
     ]
    }
   ],
   "source": [
    "o=env.step(action = env.actions.DOWN())\n",
    "print(o[1], o[3])"
   ]
  },
  {
   "cell_type": "code",
   "execution_count": 6,
   "id": "6eb2fb24",
   "metadata": {},
   "outputs": [
    {
     "name": "stdout",
     "output_type": "stream",
     "text": [
      "1 {'chars_world': array([['O', 'H', 'T'],\n",
      "       ['O', 'O', 'A'],\n",
      "       ['O', 'O', 'O']], dtype='<U1'), 'terminated': True, 'truncated': False, 'done': True, 'move_result': [0, 0, 0, 1]}\n"
     ]
    }
   ],
   "source": [
    "o=env.step(action = env.actions.UP())\n",
    "print(o[1], o[3])"
   ]
  },
  {
   "cell_type": "code",
   "execution_count": 5,
   "id": "bf763fcb",
   "metadata": {},
   "outputs": [
    {
     "name": "stdout",
     "output_type": "stream",
     "text": [
      "0 {'chars_world': array([['O', 'H', 'T'],\n",
      "       ['O', 'O', 'A'],\n",
      "       ['O', 'O', 'O']], dtype='<U1'), 'terminated': False, 'truncated': False, 'done': False, 'move_result': [0, 0, 1, 0]}\n"
     ]
    }
   ],
   "source": [
    "o=env.step(action = env.actions.RIGHT())\n",
    "print(o[1], o[3])"
   ]
  },
  {
   "cell_type": "code",
   "execution_count": 19,
   "id": "647d464b",
   "metadata": {},
   "outputs": [
    {
     "name": "stdout",
     "output_type": "stream",
     "text": [
      "0 {'chars_world': array([['W', 'O', 'O', 'O', 'W'],\n",
      "       ['W', 'O', 'O', 'O', 'W'],\n",
      "       ['W', 'O', 'O', 'O', 'W'],\n",
      "       ['W', 'O', 'A', 'T', 'W'],\n",
      "       ['W', 'W', 'W', 'W', 'W']], dtype='<U1'), 'terminated': False, 'truncated': False, 'done': False, 'move_result': [0, 1, 0, 0]}\n"
     ]
    }
   ],
   "source": [
    "o=env.step(action = env.actions.LEFT())\n",
    "print(o[1], o[3])"
   ]
  },
  {
   "cell_type": "code",
   "execution_count": 32,
   "id": "b54b1c8f",
   "metadata": {},
   "outputs": [
    {
     "name": "stdout",
     "output_type": "stream",
     "text": [
      "1 {'chars_world': array([['W', 'O', 'O', 'O', 'W'],\n",
      "       ['W', 'O', 'O', 'O', 'W'],\n",
      "       ['W', 'O', 'O', 'A', 'W'],\n",
      "       ['W', 'O', 'O', 'T', 'W'],\n",
      "       ['W', 'W', 'W', 'W', 'W']], dtype='<U1'), 'terminated': True, 'truncated': False, 'done': True, 'move_result': [0, 1, 0, 1]}\n"
     ]
    }
   ],
   "source": [
    "o=env.step(action = env.actions.DOWNRIGHT())\n",
    "print(o[1], o[3])"
   ]
  },
  {
   "cell_type": "code",
   "execution_count": 21,
   "id": "2a94b0da",
   "metadata": {},
   "outputs": [
    {
     "name": "stdout",
     "output_type": "stream",
     "text": [
      "1 {'chars_world': array([['W', 'O', 'O', 'O', 'W'],\n",
      "       ['W', 'O', 'O', 'O', 'W'],\n",
      "       ['W', 'O', 'O', 'O', 'W'],\n",
      "       ['W', 'O', 'A', 'T', 'W'],\n",
      "       ['W', 'W', 'W', 'W', 'W']], dtype='<U1'), 'terminated': True, 'truncated': False, 'done': True, 'move_result': [0, 0, 0, 1]}\n"
     ]
    }
   ],
   "source": [
    "o=env.step(action = env.actions.DOWNLEFT())\n",
    "print(o[1], o[3])"
   ]
  },
  {
   "cell_type": "code",
   "execution_count": 27,
   "id": "c2707d99",
   "metadata": {},
   "outputs": [
    {
     "name": "stdout",
     "output_type": "stream",
     "text": [
      "-1 {'chars_world': array([['W', 'O', 'O', 'A', 'W'],\n",
      "       ['W', 'O', 'O', 'O', 'W'],\n",
      "       ['W', 'O', 'O', 'O', 'W'],\n",
      "       ['W', 'O', 'O', 'T', 'W'],\n",
      "       ['W', 'W', 'W', 'W', 'W']], dtype='<U1'), 'terminated': True, 'truncated': False, 'done': True, 'move_result': [1, 1, 0, 0]}\n"
     ]
    }
   ],
   "source": [
    "o=env.step(action = env.actions.UPRIGHT())\n",
    "print(o[1], o[3])"
   ]
  },
  {
   "cell_type": "code",
   "execution_count": 3,
   "id": "033e6469",
   "metadata": {},
   "outputs": [
    {
     "name": "stdout",
     "output_type": "stream",
     "text": [
      "[['O' 'H' 'T']\n",
      " ['O' 'A' 'O']\n",
      " ['O' 'O' 'O']]\n"
     ]
    }
   ],
   "source": [
    "env = GridEnv(load_chars_rep_fromd_dir = 'EnvSettings/SimpleHoleAndTarget.txt')\n",
    "env.reset()\n",
    "print(env.chars_world)"
   ]
  },
  {
   "cell_type": "code",
   "execution_count": null,
   "id": "3273c6ac",
   "metadata": {},
   "outputs": [],
   "source": []
  }
 ],
 "metadata": {
  "kernelspec": {
   "display_name": "Python 3 (ipykernel)",
   "language": "python",
   "name": "python3"
  },
  "language_info": {
   "codemirror_mode": {
    "name": "ipython",
    "version": 3
   },
   "file_extension": ".py",
   "mimetype": "text/x-python",
   "name": "python",
   "nbconvert_exporter": "python",
   "pygments_lexer": "ipython3",
   "version": "3.9.7"
  }
 },
 "nbformat": 4,
 "nbformat_minor": 5
}
