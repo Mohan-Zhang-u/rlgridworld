{
 "cells": [
  {
   "cell_type": "code",
   "execution_count": 28,
   "id": "c463968f",
   "metadata": {},
   "outputs": [
    {
     "name": "stdout",
     "output_type": "stream",
     "text": [
      "[['W' 'O' 'O' 'O' 'W']\n",
      " ['W' 'O' 'O' 'O' 'W']\n",
      " ['W' 'O' 'A' 'O' 'W']\n",
      " ['W' 'O' 'O' 'T' 'W']\n",
      " ['W' 'W' 'W' 'W' 'W']]\n"
     ]
    }
   ],
   "source": [
    "from rlgridworld.gridenv import GridEnv\n",
    "import numpy as np\n",
    "\n",
    "\n",
    "env = GridEnv(load_chars_rep_fromd_dir = 'EnvSettings/SimpleTarget.txt')\n",
    "env.reset()\n",
    "print(env.chars_world)"
   ]
  },
  {
   "cell_type": "code",
   "execution_count": 16,
   "id": "9d50338a",
   "metadata": {},
   "outputs": [
    {
     "name": "stdout",
     "output_type": "stream",
     "text": [
      "0 {'chars_world': array([['W', 'O', 'O', 'O', 'W'],\n",
      "       ['W', 'O', 'O', 'O', 'W'],\n",
      "       ['W', 'O', 'O', 'O', 'W'],\n",
      "       ['W', 'O', 'A', 'T', 'W'],\n",
      "       ['W', 'W', 'W', 'W', 'W']], dtype='<U1'), 'terminated': False, 'truncated': False, 'done': False, 'move_result': [0, 0, 1, 0]}\n"
     ]
    }
   ],
   "source": [
    "o=env.step(action = env.actions.DOWN())\n",
    "print(o[1], o[3])"
   ]
  },
  {
   "cell_type": "code",
   "execution_count": 17,
   "id": "e8ed9d6e",
   "metadata": {},
   "outputs": [
    {
     "name": "stdout",
     "output_type": "stream",
     "text": [
      "0 {'chars_world': array([['W', 'O', 'O', 'O', 'W'],\n",
      "       ['W', 'O', 'O', 'O', 'W'],\n",
      "       ['W', 'O', 'A', 'O', 'W'],\n",
      "       ['W', 'O', 'O', 'T', 'W'],\n",
      "       ['W', 'W', 'W', 'W', 'W']], dtype='<U1'), 'terminated': False, 'truncated': False, 'done': False, 'move_result': [0, 0, 1, 0]}\n"
     ]
    }
   ],
   "source": [
    "o=env.step(action = env.actions.UP())\n",
    "print(o[1], o[3])"
   ]
  },
  {
   "cell_type": "code",
   "execution_count": 31,
   "id": "5572a982",
   "metadata": {},
   "outputs": [
    {
     "name": "stdout",
     "output_type": "stream",
     "text": [
      "0 {'chars_world': array([['W', 'O', 'O', 'O', 'W'],\n",
      "       ['W', 'O', 'O', 'O', 'W'],\n",
      "       ['W', 'O', 'O', 'A', 'W'],\n",
      "       ['W', 'O', 'O', 'T', 'W'],\n",
      "       ['W', 'W', 'W', 'W', 'W']], dtype='<U1'), 'terminated': False, 'truncated': False, 'done': False, 'move_result': [0, 1, 0, 0]}\n"
     ]
    }
   ],
   "source": [
    "o=env.step(action = env.actions.RIGHT())\n",
    "print(o[1], o[3])"
   ]
  },
  {
   "cell_type": "code",
   "execution_count": 19,
   "id": "36f6bb5f",
   "metadata": {},
   "outputs": [
    {
     "name": "stdout",
     "output_type": "stream",
     "text": [
      "0 {'chars_world': array([['W', 'O', 'O', 'O', 'W'],\n",
      "       ['W', 'O', 'O', 'O', 'W'],\n",
      "       ['W', 'O', 'O', 'O', 'W'],\n",
      "       ['W', 'O', 'A', 'T', 'W'],\n",
      "       ['W', 'W', 'W', 'W', 'W']], dtype='<U1'), 'terminated': False, 'truncated': False, 'done': False, 'move_result': [0, 1, 0, 0]}\n"
     ]
    }
   ],
   "source": [
    "o=env.step(action = env.actions.LEFT())\n",
    "print(o[1], o[3])"
   ]
  },
  {
   "cell_type": "code",
   "execution_count": 32,
   "id": "2e4003d2",
   "metadata": {},
   "outputs": [
    {
     "name": "stdout",
     "output_type": "stream",
     "text": [
      "1 {'chars_world': array([['W', 'O', 'O', 'O', 'W'],\n",
      "       ['W', 'O', 'O', 'O', 'W'],\n",
      "       ['W', 'O', 'O', 'A', 'W'],\n",
      "       ['W', 'O', 'O', 'T', 'W'],\n",
      "       ['W', 'W', 'W', 'W', 'W']], dtype='<U1'), 'terminated': True, 'truncated': False, 'done': True, 'move_result': [0, 1, 0, 1]}\n"
     ]
    }
   ],
   "source": [
    "o=env.step(action = env.actions.DOWNRIGHT())\n",
    "print(o[1], o[3])"
   ]
  },
  {
   "cell_type": "code",
   "execution_count": 21,
   "id": "66157f10",
   "metadata": {},
   "outputs": [
    {
     "name": "stdout",
     "output_type": "stream",
     "text": [
      "1 {'chars_world': array([['W', 'O', 'O', 'O', 'W'],\n",
      "       ['W', 'O', 'O', 'O', 'W'],\n",
      "       ['W', 'O', 'O', 'O', 'W'],\n",
      "       ['W', 'O', 'A', 'T', 'W'],\n",
      "       ['W', 'W', 'W', 'W', 'W']], dtype='<U1'), 'terminated': True, 'truncated': False, 'done': True, 'move_result': [0, 0, 0, 1]}\n"
     ]
    }
   ],
   "source": [
    "o=env.step(action = env.actions.DOWNLEFT())\n",
    "print(o[1], o[3])"
   ]
  },
  {
   "cell_type": "code",
   "execution_count": 27,
   "id": "a3f7411e",
   "metadata": {},
   "outputs": [
    {
     "name": "stdout",
     "output_type": "stream",
     "text": [
      "-1 {'chars_world': array([['W', 'O', 'O', 'A', 'W'],\n",
      "       ['W', 'O', 'O', 'O', 'W'],\n",
      "       ['W', 'O', 'O', 'O', 'W'],\n",
      "       ['W', 'O', 'O', 'T', 'W'],\n",
      "       ['W', 'W', 'W', 'W', 'W']], dtype='<U1'), 'terminated': True, 'truncated': False, 'done': True, 'move_result': [1, 1, 0, 0]}\n"
     ]
    }
   ],
   "source": [
    "o=env.step(action = env.actions.UPRIGHT())\n",
    "print(o[1], o[3])"
   ]
  },
  {
   "cell_type": "code",
   "execution_count": null,
   "id": "72062ca4",
   "metadata": {},
   "outputs": [],
   "source": []
  }
 ],
 "metadata": {
  "kernelspec": {
   "display_name": "Python 3 (ipykernel)",
   "language": "python",
   "name": "python3"
  },
  "language_info": {
   "codemirror_mode": {
    "name": "ipython",
    "version": 3
   },
   "file_extension": ".py",
   "mimetype": "text/x-python",
   "name": "python",
   "nbconvert_exporter": "python",
   "pygments_lexer": "ipython3",
   "version": "3.9.7"
  }
 },
 "nbformat": 4,
 "nbformat_minor": 5
}
