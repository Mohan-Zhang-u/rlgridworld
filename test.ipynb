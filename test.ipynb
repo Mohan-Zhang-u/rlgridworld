{
 "cells": [
  {
   "cell_type": "code",
   "execution_count": 28,
   "id": "cfd8619d",
   "metadata": {},
   "outputs": [
    {
     "name": "stdout",
     "output_type": "stream",
     "text": [
      "[['W' 'O' 'O' 'O' 'W']\n",
      " ['W' 'O' 'O' 'O' 'W']\n",
      " ['W' 'O' 'A' 'O' 'W']\n",
      " ['W' 'O' 'O' 'T' 'W']\n",
      " ['W' 'W' 'W' 'W' 'W']]\n"
     ]
    }
   ],
   "source": [
    "from rlgridworld.gridenv import GridEnv\n",
    "import numpy as np\n",
    "\n",
    "\n",
    "env = GridEnv(load_chars_rep_fromd_dir = 'EnvSettings/SimpleTarget.txt')\n",
    "env.reset()\n",
    "print(env.chars_world)"
   ]
  },
  {
   "cell_type": "code",
   "execution_count": 16,
   "id": "bcbf1f3f",
   "metadata": {},
   "outputs": [
    {
     "name": "stdout",
     "output_type": "stream",
     "text": [
      "0 {'chars_world': array([['W', 'O', 'O', 'O', 'W'],\n",
      "       ['W', 'O', 'O', 'O', 'W'],\n",
      "       ['W', 'O', 'O', 'O', 'W'],\n",
      "       ['W', 'O', 'A', 'T', 'W'],\n",
      "       ['W', 'W', 'W', 'W', 'W']], dtype='<U1'), 'terminated': False, 'truncated': False, 'done': False, 'move_result': [0, 0, 1, 0]}\n"
     ]
    }
   ],
   "source": [
    "o=env.step(action = env.actions.DOWN())\n",
    "print(o[1], o[3])"
   ]
  },
  {
   "cell_type": "code",
   "execution_count": 34,
   "id": "79808207",
   "metadata": {},
   "outputs": [
    {
     "ename": "AttributeError",
     "evalue": "'GridEnv' object has no attribute 'char_world'",
     "output_type": "error",
     "traceback": [
      "\u001b[0;31m---------------------------------------------------------------------------\u001b[0m",
      "\u001b[0;31mAttributeError\u001b[0m                            Traceback (most recent call last)",
      "\u001b[0;32m/tmp/ipykernel_21106/3644438108.py\u001b[0m in \u001b[0;36m<module>\u001b[0;34m\u001b[0m\n\u001b[0;32m----> 1\u001b[0;31m \u001b[0mo\u001b[0m\u001b[0;34m=\u001b[0m\u001b[0menv\u001b[0m\u001b[0;34m.\u001b[0m\u001b[0mstep\u001b[0m\u001b[0;34m(\u001b[0m\u001b[0maction\u001b[0m \u001b[0;34m=\u001b[0m \u001b[0menv\u001b[0m\u001b[0;34m.\u001b[0m\u001b[0mactions\u001b[0m\u001b[0;34m.\u001b[0m\u001b[0mUP\u001b[0m\u001b[0;34m(\u001b[0m\u001b[0;34m)\u001b[0m\u001b[0;34m)\u001b[0m\u001b[0;34m\u001b[0m\u001b[0;34m\u001b[0m\u001b[0m\n\u001b[0m\u001b[1;32m      2\u001b[0m \u001b[0mprint\u001b[0m\u001b[0;34m(\u001b[0m\u001b[0mo\u001b[0m\u001b[0;34m[\u001b[0m\u001b[0;36m1\u001b[0m\u001b[0;34m]\u001b[0m\u001b[0;34m,\u001b[0m \u001b[0mo\u001b[0m\u001b[0;34m[\u001b[0m\u001b[0;36m3\u001b[0m\u001b[0;34m]\u001b[0m\u001b[0;34m)\u001b[0m\u001b[0;34m\u001b[0m\u001b[0;34m\u001b[0m\u001b[0m\n",
      "\u001b[0;32m~/GitRepos/rlgridworld/rlgridworld/gridenv.py\u001b[0m in \u001b[0;36mstep\u001b[0;34m(self, action)\u001b[0m\n\u001b[1;32m    134\u001b[0m             \u001b[0mtruncated\u001b[0m \u001b[0;34m=\u001b[0m \u001b[0;32mFalse\u001b[0m\u001b[0;34m\u001b[0m\u001b[0;34m\u001b[0m\u001b[0m\n\u001b[1;32m    135\u001b[0m             \u001b[0mdone\u001b[0m \u001b[0;34m=\u001b[0m \u001b[0;32mTrue\u001b[0m\u001b[0;34m\u001b[0m\u001b[0;34m\u001b[0m\u001b[0m\n\u001b[0;32m--> 136\u001b[0;31m             info = {\n\u001b[0m\u001b[1;32m    137\u001b[0m                 \u001b[0;34m'chars_world'\u001b[0m\u001b[0;34m:\u001b[0m \u001b[0mself\u001b[0m\u001b[0;34m.\u001b[0m\u001b[0mchars_world\u001b[0m\u001b[0;34m,\u001b[0m\u001b[0;34m\u001b[0m\u001b[0;34m\u001b[0m\u001b[0m\n\u001b[1;32m    138\u001b[0m                 \u001b[0;34m'terminated'\u001b[0m\u001b[0;34m:\u001b[0m \u001b[0mterminated\u001b[0m\u001b[0;34m,\u001b[0m\u001b[0;34m\u001b[0m\u001b[0;34m\u001b[0m\u001b[0m\n",
      "\u001b[0;32m~/GitRepos/rlgridworld/rlgridworld/gridenv.py\u001b[0m in \u001b[0;36mmove_to\u001b[0;34m(self, y, x, result)\u001b[0m\n",
      "\u001b[0;31mAttributeError\u001b[0m: 'GridEnv' object has no attribute 'char_world'"
     ]
    }
   ],
   "source": [
    "o=env.step(action = env.actions.UP())\n",
    "print(o[1], o[3])"
   ]
  },
  {
   "cell_type": "code",
   "execution_count": 31,
   "id": "5dc84eda",
   "metadata": {},
   "outputs": [
    {
     "name": "stdout",
     "output_type": "stream",
     "text": [
      "0 {'chars_world': array([['W', 'O', 'O', 'O', 'W'],\n",
      "       ['W', 'O', 'O', 'O', 'W'],\n",
      "       ['W', 'O', 'O', 'A', 'W'],\n",
      "       ['W', 'O', 'O', 'T', 'W'],\n",
      "       ['W', 'W', 'W', 'W', 'W']], dtype='<U1'), 'terminated': False, 'truncated': False, 'done': False, 'move_result': [0, 1, 0, 0]}\n"
     ]
    }
   ],
   "source": [
    "o=env.step(action = env.actions.RIGHT())\n",
    "print(o[1], o[3])"
   ]
  },
  {
   "cell_type": "code",
   "execution_count": 19,
   "id": "7b248a6a",
   "metadata": {},
   "outputs": [
    {
     "name": "stdout",
     "output_type": "stream",
     "text": [
      "0 {'chars_world': array([['W', 'O', 'O', 'O', 'W'],\n",
      "       ['W', 'O', 'O', 'O', 'W'],\n",
      "       ['W', 'O', 'O', 'O', 'W'],\n",
      "       ['W', 'O', 'A', 'T', 'W'],\n",
      "       ['W', 'W', 'W', 'W', 'W']], dtype='<U1'), 'terminated': False, 'truncated': False, 'done': False, 'move_result': [0, 1, 0, 0]}\n"
     ]
    }
   ],
   "source": [
    "o=env.step(action = env.actions.LEFT())\n",
    "print(o[1], o[3])"
   ]
  },
  {
   "cell_type": "code",
   "execution_count": 32,
   "id": "870a061e",
   "metadata": {},
   "outputs": [
    {
     "name": "stdout",
     "output_type": "stream",
     "text": [
      "1 {'chars_world': array([['W', 'O', 'O', 'O', 'W'],\n",
      "       ['W', 'O', 'O', 'O', 'W'],\n",
      "       ['W', 'O', 'O', 'A', 'W'],\n",
      "       ['W', 'O', 'O', 'T', 'W'],\n",
      "       ['W', 'W', 'W', 'W', 'W']], dtype='<U1'), 'terminated': True, 'truncated': False, 'done': True, 'move_result': [0, 1, 0, 1]}\n"
     ]
    }
   ],
   "source": [
    "o=env.step(action = env.actions.DOWNRIGHT())\n",
    "print(o[1], o[3])"
   ]
  },
  {
   "cell_type": "code",
   "execution_count": 21,
   "id": "962b1c84",
   "metadata": {},
   "outputs": [
    {
     "name": "stdout",
     "output_type": "stream",
     "text": [
      "1 {'chars_world': array([['W', 'O', 'O', 'O', 'W'],\n",
      "       ['W', 'O', 'O', 'O', 'W'],\n",
      "       ['W', 'O', 'O', 'O', 'W'],\n",
      "       ['W', 'O', 'A', 'T', 'W'],\n",
      "       ['W', 'W', 'W', 'W', 'W']], dtype='<U1'), 'terminated': True, 'truncated': False, 'done': True, 'move_result': [0, 0, 0, 1]}\n"
     ]
    }
   ],
   "source": [
    "o=env.step(action = env.actions.DOWNLEFT())\n",
    "print(o[1], o[3])"
   ]
  },
  {
   "cell_type": "code",
   "execution_count": 27,
   "id": "44aa0837",
   "metadata": {},
   "outputs": [
    {
     "name": "stdout",
     "output_type": "stream",
     "text": [
      "-1 {'chars_world': array([['W', 'O', 'O', 'A', 'W'],\n",
      "       ['W', 'O', 'O', 'O', 'W'],\n",
      "       ['W', 'O', 'O', 'O', 'W'],\n",
      "       ['W', 'O', 'O', 'T', 'W'],\n",
      "       ['W', 'W', 'W', 'W', 'W']], dtype='<U1'), 'terminated': True, 'truncated': False, 'done': True, 'move_result': [1, 1, 0, 0]}\n"
     ]
    }
   ],
   "source": [
    "o=env.step(action = env.actions.UPRIGHT())\n",
    "print(o[1], o[3])"
   ]
  },
  {
   "cell_type": "code",
   "execution_count": 33,
   "id": "be75e088",
   "metadata": {},
   "outputs": [
    {
     "name": "stdout",
     "output_type": "stream",
     "text": [
      "[['O' 'H' 'T']\n",
      " ['O' 'A' 'O']\n",
      " ['O' 'O' 'O']]\n"
     ]
    }
   ],
   "source": [
    "env = GridEnv(load_chars_rep_fromd_dir = 'EnvSettings/SimpleHoleAndTarget.txt')\n",
    "env.reset()\n",
    "print(env.chars_world)"
   ]
  },
  {
   "cell_type": "code",
   "execution_count": null,
   "id": "c62d135e",
   "metadata": {},
   "outputs": [],
   "source": []
  }
 ],
 "metadata": {
  "kernelspec": {
   "display_name": "Python 3 (ipykernel)",
   "language": "python",
   "name": "python3"
  },
  "language_info": {
   "codemirror_mode": {
    "name": "ipython",
    "version": 3
   },
   "file_extension": ".py",
   "mimetype": "text/x-python",
   "name": "python",
   "nbconvert_exporter": "python",
   "pygments_lexer": "ipython3",
   "version": "3.9.7"
  }
 },
 "nbformat": 4,
 "nbformat_minor": 5
}
